{
 "cells": [
  {
   "cell_type": "markdown",
   "id": "42817ab7",
   "metadata": {},
   "source": [
    "# Day-2 Session-1"
   ]
  },
  {
   "cell_type": "markdown",
   "id": "3e08db57",
   "metadata": {},
   "source": [
    "# Welcome Today"
   ]
  },
  {
   "cell_type": "markdown",
   "id": "0440029c",
   "metadata": {},
   "source": [
    "## Todays Topics\n",
    "### Session-1\n",
    "- Revview\n",
    "- String correction\n",
    "- Control structures in python\n",
    "\n",
    "\n"
   ]
  },
  {
   "cell_type": "markdown",
   "id": "19f536dc",
   "metadata": {},
   "source": [
    "## Review\n",
    "\n",
    "- Intro\n",
    "- IDEs\n",
    "- Fundamental Datatypes [number(int, float, complex), bool]\n",
    "- literal\n",
    "- Variables\n",
    "- Type casting\n",
    "- Operators (arithmetic, comparison, boolean/logical, bitwise, assignment(=)), Precedence, Associativity, Arity\n",
    "- Compound types: Strings, List and dictionaries\n",
    "- Print/Output functions"
   ]
  },
  {
   "cell_type": "markdown",
   "id": "7f92be6f",
   "metadata": {},
   "source": [
    "## Any feedback from your side"
   ]
  },
  {
   "cell_type": "code",
   "execution_count": 65,
   "id": "ac6046cf",
   "metadata": {
    "collapsed": true
   },
   "outputs": [],
   "source": [
    "#help"
   ]
  },
  {
   "cell_type": "markdown",
   "id": "c4f927e8",
   "metadata": {},
   "source": [
    "# Revise and a Correction related String in python"
   ]
  },
  {
   "cell_type": "markdown",
   "id": "baeba670",
   "metadata": {},
   "source": [
    "In Python, values are considered either truthy or falsy based on their boolean interpretation in a boolean context. In a boolean context, a value is considered:\n",
    "\n",
    "- Truthy: A value that evaluates to True when used in a boolean expression. For example, non-zero numbers, non-empty strings, and objects are considered truthy.\n",
    "- Falsy: A value that evaluates to False when used in a boolean expression. For example, 0, None, empty strings (''), and empty containers (like empty lists or dictionaries) are considered falsy.\n",
    "\n",
    "In Python, the or operator returns the first truthy value it encounters when evaluating expressions from left to right. If all values are falsy, it returns the last falsy value. \n",
    "\n",
    "In the case of print(5 or 0), the expression 5 or 0 evaluates to 5 because 5 is a truthy value in Python.\n",
    "\n",
    "Here's how it works step by step:\n",
    "\n",
    "- The left operand is 5. In Python, non-zero integers are considered truthy.\n",
    "- Since the left operand is truthy, the or operator short-circuits and returns the left operand (5).\n",
    "\n",
    "Therefore, print(5 or 0) prints 5 because 5 is the first truthy value encountered in the expression. If the left operand were falsy (e.g., 0 or 7), it would print 7, as it would move on to the right operand to find a truthy value."
   ]
  },
  {
   "cell_type": "markdown",
   "id": "8dfc13cc",
   "metadata": {},
   "source": [
    "# A review Program"
   ]
  },
  {
   "cell_type": "code",
   "execution_count": 6,
   "id": "0d2bf2c4",
   "metadata": {
    "collapsed": true
   },
   "outputs": [
    {
     "name": "stdout",
     "output_type": "stream",
     "text": [
      "Enter first value  : 3\n",
      "Enter Second value : 4\n",
      "----------------Arithmetic------------------\n",
      "Sum of values is 3 + 4 = 7\n",
      "sub of values is 3 - 4 = -1\n",
      "Mult of values is 3 x 4 = 12\n",
      "Sum of values is 3 / 4 = 0.75\n",
      "Sum of values is 3 // 4 = 0\n",
      "Sum of values is 3 % 4 = 3\n",
      "-----------------Boolean-----------------\n",
      "boolen or of values 3 or 4 = 3\n",
      "boolen or of values 3 and 4 = 4\n",
      "-----------------Comparison-----------------\n",
      "boolen or of values 3 == 4 = 0\n",
      "boolen or of values 3 != 4 = 1\n",
      "boolen or of values 3 < 4 = 1\n",
      "boolen or of values 3 > 4 = 0\n"
     ]
    }
   ],
   "source": [
    "# Example Program segment-1\n",
    "# Take two values from user an input and apply different operators and print in specified format.\n",
    "\n",
    "val1 = int(input(\"Enter first integer value  :  \"))\n",
    "val2 = int(input(\"Enter Second integer value :  \"))\n",
    "print(\"----------------Arithmetic------------------\")\n",
    "print (\"Sum of values is {0} + {1} = {2}\".format(val1,val2,val1+val2))\n",
    "print (\"sub of values is {0} - {1} = {2}\".format(val1,val2,val1-val2))\n",
    "print (\"Mult of values is {0} x {1} = {2}\".format(val1,val2,val1*val2))\n",
    "print (\"Sum of values is {0} / {1} = {2}\".format(val1,val2,val1/val2))\n",
    "print (\"Sum of values is {0} // {1} = {2}\".format(val1,val2,val1//val2))\n",
    "print (\"Sum of values is {0} % {1} = {2}\".format(val1,val2,val1%val2))\n",
    "print(\"-----------------Boolean-----------------\")\n",
    "print(\"boolen or of values %d or %d = %d\" % (val1,val2,val1 or val2))\n",
    "print(\"boolen or of values %d and %d = %d\" % (val1,val2,val1 and val2))\n",
    "print(\"-----------------Comparison-----------------\")\n",
    "print(\"boolen or of values %d == %d = %d\" % (val1,val2,val1 == val2))\n",
    "print(\"boolen or of values %d != %d = %d\" % (val1,val2,val1 != val2))\n",
    "print(\"boolen or of values %d < %d = %d\" % (val1,val2,val1 < val2))\n",
    "print(\"boolen or of values %d > %d = %d\" % (val1,val2,val1 > val2))\n",
    "\n",
    "\n",
    "\n",
    "\n",
    "\n"
   ]
  },
  {
   "cell_type": "markdown",
   "id": "6c546cfc",
   "metadata": {},
   "source": [
    "# Control Structures in Python\n",
    "\n",
    "### What is control structure(s)?\n",
    "\n",
    "- Sequential control structure (see program segment-1)\n",
    "- Selection control structure\n",
    "- Repitition control structure\n"
   ]
  },
  {
   "cell_type": "markdown",
   "id": "bf14c7f5",
   "metadata": {},
   "source": [
    "## Simple vs compound Statements\n",
    "\n",
    "### Simple Statements: \n",
    "- A simple statement is a single line of code that performs a specific action. { assignment, Print, input, expressions etc}\n",
    "### Compound Stements: \n",
    "- A compound statement, also known as a block, is a group of statements that are executed together. Common compound statements include if, else, elif, for, while, with, and def (function definition).\n",
    "- Every compound statement have tow parts. A \"header\" and a \"body/block\". "
   ]
  },
  {
   "cell_type": "markdown",
   "id": "07e1f51f",
   "metadata": {},
   "source": [
    "### Selection Control structures"
   ]
  },
  {
   "cell_type": "markdown",
   "id": "5178d7ce",
   "metadata": {},
   "source": [
    "#### Used when to select a specific statement(s) \n",
    "- Single selector (simple if)\n",
    "- Two way selector (if...else)\n",
    "- Multi selector (if...elif...else)\n"
   ]
  },
  {
   "cell_type": "code",
   "execution_count": 3,
   "id": "32fc5de5",
   "metadata": {
    "collapsed": true
   },
   "outputs": [
    {
     "name": "stdout",
     "output_type": "stream",
     "text": [
      "Enter a integer value :  -1\n"
     ]
    }
   ],
   "source": [
    "#Code Snippet : Single selector (simple if)\n",
    "\n",
    "a = int(input(\"Enter a integer value :  \"))\n",
    "\n",
    "if a>0:\n",
    "    print(\"Positive\")\n",
    "    print(\"Value\")\n"
   ]
  },
  {
   "cell_type": "markdown",
   "id": "f93e0dc5",
   "metadata": {},
   "source": [
    "### Question: \n",
    "* how you understand this 4 < 10 > 3 "
   ]
  },
  {
   "cell_type": "code",
   "execution_count": 19,
   "id": "12def12a",
   "metadata": {
    "collapsed": true
   },
   "outputs": [
    {
     "name": "stdout",
     "output_type": "stream",
     "text": [
      "Enter a integer value :  5\n",
      "odd\n",
      "value\n"
     ]
    }
   ],
   "source": [
    "#Code Snippet : Two way selector (if...else)\n",
    "\n",
    "a = int(input(\"Enter a integer value :  \"))\n",
    "\n",
    "if a%2==0:\n",
    "    print(\"Even\")\n",
    "    print(\"value\")\n",
    "else:\n",
    "    print (\"odd\")\n",
    "    print (\"value\")\n"
   ]
  },
  {
   "cell_type": "code",
   "execution_count": 2,
   "id": "ad85570b",
   "metadata": {
    "collapsed": true
   },
   "outputs": [
    {
     "name": "stdout",
     "output_type": "stream",
     "text": [
      "Enter a integer value :  3\n",
      "divisible by 3\n"
     ]
    }
   ],
   "source": [
    "#Code Snippet : Multi selector (if...elif...else)\n",
    "\n",
    "a = int(input(\"Enter a integer value :  \"))\n",
    "\n",
    "if a%2==0:\n",
    "    print(\"divisible by 2\")\n",
    "elif a%3==0:\n",
    "    print(\"divisible by 3\")\n",
    "elif a%5==0:\n",
    "    print(\"divisible by 5\")\n",
    "elif a%7==0:\n",
    "    print(\"divisible by 7\")\n",
    "    "
   ]
  },
  {
   "cell_type": "code",
   "execution_count": 80,
   "id": "b78e084e",
   "metadata": {
    "collapsed": true
   },
   "outputs": [
    {
     "name": "stdout",
     "output_type": "stream",
     "text": [
      " Enter first integer value  :  5\n",
      " Enter Second integer value :  7\n",
      " Enter \"A\" for Addition \n",
      " Enter \"S\" for Subtraction \n",
      " Enter \"M\" for Multiplication \n",
      " Enter \"D\" Division \n",
      "D\n",
      "Sum of values is 5 / 7 = 0.7142857142857143\n",
      "\n",
      "\n",
      "Exiting\n"
     ]
    }
   ],
   "source": [
    "# Example Program Segment-2\n",
    "# Take two values from user an input and ask a specific operation to perform using multiselector\n",
    "# some changes on run time oring and default\n",
    "\n",
    "\n",
    "val1 = int(input(\" Enter first integer value  :  \"))\n",
    "val2 = int(input(\" Enter Second integer value :  \"))\n",
    "print(\" Enter \\\"A\\\" for Addition \\n Enter \\\"S\\\" for Subtraction \\n Enter \\\"M\\\" for Multiplication \\n Enter \\\"D\\\" Division \")\n",
    "oper = input()\n",
    "\n",
    "if oper==\"A\":\n",
    "    print (\"Sum of values is {0} + {1} = {2}\".format(val1,val2,val1+val2))\n",
    "elif oper==\"S\":\n",
    "    print (\"Sum of values is {0} - {1} = {2}\".format(val1,val2,val1-val2))\n",
    "elif oper==\"M\":\n",
    "    print (\"Sum of values is {0} X {1} = {2}\".format(val1,val2,val1*val2))\n",
    "elif oper==\"D\":\n",
    "    print (\"Sum of values is {0} / {1} = {2}\".format(val1,val2,val1/val2))\n",
    "\n",
    "\n",
    "print (\"\\n\\nExiting\")\n"
   ]
  },
  {
   "cell_type": "markdown",
   "id": "596f629b",
   "metadata": {},
   "source": [
    "### Task - 1 ???"
   ]
  },
  {
   "cell_type": "markdown",
   "id": "93e75a08",
   "metadata": {},
   "source": [
    "### Repition Control structures (loops)\n",
    "\n",
    "- while loop\n",
    "- for loop"
   ]
  },
  {
   "cell_type": "code",
   "execution_count": 8,
   "id": "d604a0eb",
   "metadata": {
    "collapsed": true
   },
   "outputs": [
    {
     "name": "stdout",
     "output_type": "stream",
     "text": [
      "1\n",
      "2\n",
      "3\n",
      "4\n",
      "5\n",
      "6\n",
      "7\n",
      "8\n",
      "9\n",
      "10\n"
     ]
    }
   ],
   "source": [
    "#Code Snippet : While loop-1\n",
    "count = 1\n",
    "\n",
    "while count<=10:\n",
    "    print(count)\n",
    "    count += 1\n",
    "    \n",
    "    "
   ]
  },
  {
   "cell_type": "code",
   "execution_count": 13,
   "id": "e9c571ee",
   "metadata": {
    "collapsed": true
   },
   "outputs": [
    {
     "name": "stdout",
     "output_type": "stream",
     "text": [
      "Sum of list =  15\n"
     ]
    }
   ],
   "source": [
    "#Code Snippet : While loop-2\n",
    "list1 = [1,2,3,4,5]\n",
    "sum=0\n",
    "a = len(list1)\n",
    "count = 0\n",
    "\n",
    "while count<a:\n",
    "    sum += list1[count]\n",
    "    count +=1\n",
    "\n",
    "print(\"Sum of list = \", sum)\n",
    "    "
   ]
  },
  {
   "cell_type": "markdown",
   "id": "df87bbe1",
   "metadata": {},
   "source": [
    "## For loop\n",
    "\n",
    "- for loop with iterables/sequences\n",
    "- for loop with range"
   ]
  },
  {
   "cell_type": "code",
   "execution_count": 34,
   "id": "ee3dd0df",
   "metadata": {
    "collapsed": true
   },
   "outputs": [
    {
     "name": "stdout",
     "output_type": "stream",
     "text": [
      "1\n",
      "2\n",
      "3\n",
      "4\n",
      "5\n"
     ]
    }
   ],
   "source": [
    "#Code Snippet : for-in loop-1\n",
    "list1 = [1,2,3,4,5]\n",
    "\n",
    "for i in list1:\n",
    "    print(i)"
   ]
  },
  {
   "cell_type": "code",
   "execution_count": 35,
   "id": "c0135fa2",
   "metadata": {
    "collapsed": true
   },
   "outputs": [
    {
     "name": "stdout",
     "output_type": "stream",
     "text": [
      "a\n",
      "b\n",
      "c\n",
      "d\n",
      "e\n"
     ]
    }
   ],
   "source": [
    "#Code Snippet : for-in loop-2\n",
    "tup1 = ('a','b','c','d','e')\n",
    "\n",
    "for i in tup1:\n",
    "    print(i)"
   ]
  },
  {
   "cell_type": "code",
   "execution_count": 36,
   "id": "322cab1b",
   "metadata": {
    "collapsed": true
   },
   "outputs": [
    {
     "name": "stdout",
     "output_type": "stream",
     "text": [
      "Index 0: apple\n",
      "Index 1: banana\n",
      "Index 2: cherry\n"
     ]
    }
   ],
   "source": [
    "#Code Snippet : for-in loop-3\n",
    "fruits = [\"apple\", \"banana\", \"cherry\"]\n",
    "for index, fruit in enumerate(fruits):\n",
    "    print(f\"Index {index}: {fruit}\")"
   ]
  },
  {
   "cell_type": "code",
   "execution_count": 37,
   "id": "ddb6c553",
   "metadata": {
    "collapsed": true
   },
   "outputs": [
    {
     "name": "stdout",
     "output_type": "stream",
     "text": [
      "parameter1 : 1.0\n",
      "parameter2 : A\n",
      "parameter3 : 3\n"
     ]
    }
   ],
   "source": [
    "#Code Snippet : for-in loop-4\n",
    "params = {\"parameter1\" : 1.0,\n",
    "          \"parameter2\" : 'A',\n",
    "          \"parameter3\" : 3,}\n",
    "for i in params:\n",
    "    print(i,\":\", params[i])"
   ]
  },
  {
   "cell_type": "code",
   "execution_count": 38,
   "id": "7272a975",
   "metadata": {
    "collapsed": true
   },
   "outputs": [
    {
     "name": "stdout",
     "output_type": "stream",
     "text": [
      "cat 3\n",
      "window 6\n",
      "defenestrate 12\n"
     ]
    }
   ],
   "source": [
    "#Code Snippet : for-in loop-5\n",
    "# Measure lenghts of strings\n",
    "words = ['cat', 'window', 'defenestrate']\n",
    "for w in words:\n",
    "    print(w, len(w))"
   ]
  },
  {
   "cell_type": "markdown",
   "id": "65787cad",
   "metadata": {},
   "source": [
    "### Task - 2 ???"
   ]
  },
  {
   "cell_type": "code",
   "execution_count": 40,
   "id": "ef070b8b",
   "metadata": {
    "collapsed": true
   },
   "outputs": [
    {
     "name": "stdout",
     "output_type": "stream",
     "text": [
      "0\n",
      "1\n",
      "2\n",
      "3\n",
      "4\n"
     ]
    }
   ],
   "source": [
    "#Code Snippet : for-in loop-6\n",
    "for i in range(5):\n",
    "    print(i)"
   ]
  },
  {
   "cell_type": "code",
   "execution_count": 45,
   "id": "1ff34b1d",
   "metadata": {
    "collapsed": true
   },
   "outputs": [
    {
     "name": "stdout",
     "output_type": "stream",
     "text": [
      "1\n",
      "2\n",
      "3\n",
      "4\n",
      "5\n",
      "6\n",
      "7\n",
      "8\n",
      "9\n"
     ]
    }
   ],
   "source": [
    "#Code Snippet : for-in loop-7\n",
    "for i in range(1,10):\n",
    "    print(i)"
   ]
  },
  {
   "cell_type": "code",
   "execution_count": 73,
   "id": "7ebad4f4",
   "metadata": {
    "collapsed": true
   },
   "outputs": [
    {
     "name": "stdout",
     "output_type": "stream",
     "text": [
      "1\n",
      "3\n",
      "5\n",
      "7\n",
      "9\n"
     ]
    }
   ],
   "source": [
    "#Code Snippet : for-in loop-8\n",
    "for i in range(1,10,2):\n",
    "    print(i)"
   ]
  },
  {
   "cell_type": "code",
   "execution_count": 50,
   "id": "ab153033",
   "metadata": {
    "collapsed": true
   },
   "outputs": [
    {
     "name": "stdout",
     "output_type": "stream",
     "text": [
      "[0, 3, 6, 9]\n"
     ]
    }
   ],
   "source": [
    "#Code Snippet : list with range\n",
    "list2=list(range(0, 10, 3))\n",
    "print(list2)"
   ]
  },
  {
   "cell_type": "code",
   "execution_count": 67,
   "id": "c5e33d7f",
   "metadata": {
    "collapsed": true
   },
   "outputs": [
    {
     "name": "stdout",
     "output_type": "stream",
     "text": [
      "[-10, -40, -70]\n"
     ]
    }
   ],
   "source": [
    "#Code Snippet : list with range\n",
    "list3=list(range(-10, -100, -30)) \n",
    "print(list3)"
   ]
  },
  {
   "cell_type": "code",
   "execution_count": 53,
   "id": "09174465",
   "metadata": {
    "collapsed": true
   },
   "outputs": [
    {
     "name": "stdout",
     "output_type": "stream",
     "text": [
      "range(0, 10)\n"
     ]
    }
   ],
   "source": [
    "#Code Snippet : range\n",
    "print(range(10))"
   ]
  },
  {
   "cell_type": "markdown",
   "id": "e7e107d2",
   "metadata": {},
   "source": [
    "#### Break and Continue statements\n",
    "\n",
    "* The break statement breaks out of the innermost enclosing for or while loop.\n",
    "\n",
    "* The continue statement, continues with the next iteration of the loop\n",
    "\n",
    "\n"
   ]
  },
  {
   "cell_type": "code",
   "execution_count": 77,
   "id": "67001734",
   "metadata": {
    "collapsed": true
   },
   "outputs": [
    {
     "name": "stdout",
     "output_type": "stream",
     "text": [
      "1\n",
      "7\n",
      "9\n"
     ]
    }
   ],
   "source": [
    "#Code Snippet : loop with continue\n",
    "for i in range(1,10,2):\n",
    "    if(i==3 or i==5):\n",
    "        continue\n",
    "    print(i)"
   ]
  },
  {
   "cell_type": "markdown",
   "id": "0765c44f",
   "metadata": {},
   "source": [
    "## Functions in python\n",
    "\n",
    "\n",
    "\n"
   ]
  },
  {
   "cell_type": "code",
   "execution_count": 85,
   "id": "b8a34b29",
   "metadata": {
    "collapsed": true
   },
   "outputs": [
    {
     "name": "stdout",
     "output_type": "stream",
     "text": [
      "Greetings to all\n",
      "10\n",
      "Greetings to all\n",
      "3.3\n",
      "Greetings to all\n",
      "a + b = 13.3\n",
      "before Exiting\n",
      "Greetings to all\n",
      "\n",
      "....Exited\n"
     ]
    }
   ],
   "source": [
    "# Example program that prints greetings to all many times\n",
    "\n",
    "a  = 10\n",
    "b = 3.3\n",
    "\n",
    "print(\"Greetings to all\")\n",
    "\n",
    "print (a)\n",
    "\n",
    "print(\"Greetings to all\")\n",
    "\n",
    "print (b)\n",
    "\n",
    "print(\"Greetings to all\")\n",
    "\n",
    "print (\"a + b =\", a+b)\n",
    "print (\"before Exiting\")\n",
    "\n",
    "print(\"Greetings to all\")\n",
    "\n",
    "print(\"\\n....Exited\")\n",
    "\n",
    "\n"
   ]
  },
  {
   "cell_type": "code",
   "execution_count": 15,
   "id": "9efb853b",
   "metadata": {},
   "outputs": [
    {
     "name": "stdout",
     "output_type": "stream",
     "text": [
      "Greetings to all hello all\n",
      "None\n",
      "10\n",
      "Greetings to all hello all\n",
      "3.3\n",
      "Greetings to all hello all\n",
      "a + b = 13.3\n",
      "before Exiting\n",
      "Greetings to all hello all\n",
      "\n",
      "....Exited\n"
     ]
    }
   ],
   "source": [
    "# Example program that prints greetings with functions\n",
    "\n",
    "def greetings():\n",
    "    print(\"Greetings to all\", end =\" \")\n",
    "    print(\"hello all\")\n",
    "    \n",
    "\n",
    "\n",
    "a  = 10\n",
    "b = 3.3\n",
    "\n",
    "print(greetings())\n",
    "print (a)\n",
    "\n",
    "greetings()\n",
    "\n",
    "print (b)\n",
    "\n",
    "greetings()\n",
    "\n",
    "print (\"a + b =\", a+b)\n",
    "print (\"before Exiting\")\n",
    "\n",
    "greetings()\n",
    "\n",
    "print(\"\\n....Exited\")\n",
    "\n",
    "\n",
    "\n"
   ]
  },
  {
   "cell_type": "code",
   "execution_count": 24,
   "id": "99eda106",
   "metadata": {},
   "outputs": [
    {
     "name": "stdout",
     "output_type": "stream",
     "text": [
      "0 1 1 2 3 5 8 13 21 34 55 89 144 233 377 610 "
     ]
    }
   ],
   "source": [
    "#parameterized function\n",
    "\n",
    "def fib(n):    # write Fibonacci series up to n\n",
    "    a, b = 0, 1\n",
    "    while a < n:\n",
    "        print(a, end=' ')\n",
    "        a, b = b, a+b\n",
    "    \n",
    "fib(900)"
   ]
  },
  {
   "cell_type": "code",
   "execution_count": null,
   "id": "b17ff35c",
   "metadata": {},
   "outputs": [],
   "source": [
    "#Task"
   ]
  },
  {
   "cell_type": "code",
   "execution_count": 25,
   "id": "8fa7f294",
   "metadata": {},
   "outputs": [
    {
     "name": "stdout",
     "output_type": "stream",
     "text": [
      "2\n"
     ]
    }
   ],
   "source": [
    "#Default Parameters/arguments\n",
    "\n",
    "def add(val1=1,val2=1):\n",
    "    return val1+val2\n"
   ]
  },
  {
   "cell_type": "code",
   "execution_count": 40,
   "id": "69a342e9",
   "metadata": {},
   "outputs": [],
   "source": [
    "#function with list\n",
    "def addList(a, L=[]):\n",
    "    L.append(a)\n",
    "    return L\n"
   ]
  },
  {
   "cell_type": "code",
   "execution_count": 44,
   "id": "8af4f276",
   "metadata": {},
   "outputs": [
    {
     "name": "stdout",
     "output_type": "stream",
     "text": [
      "[1, 1, 1, 1]\n"
     ]
    }
   ],
   "source": [
    "list1 = addList(1)\n",
    "print(list1)"
   ]
  },
  {
   "cell_type": "code",
   "execution_count": 45,
   "id": "7b039cc5",
   "metadata": {},
   "outputs": [],
   "source": [
    "# document string\n",
    "\n",
    "def fun1(a,b):\n",
    "    \"\"\"Do nothing, but document it.\n",
    "\n",
    "    No, really, it doesn't do anything.\n",
    "    \"\"\"\n",
    "    return a*b\n",
    "\n"
   ]
  },
  {
   "cell_type": "code",
   "execution_count": 53,
   "id": "b360cf80",
   "metadata": {},
   "outputs": [],
   "source": [
    "#annotations Function annotations are completely optional metadata information about the types used by user-defined functions\n",
    "\n",
    "def fun2(ham: str, eggs: str = 'eggs') -> str:\n",
    "    print(\"Annotations:\", f.__annotations__)\n",
    "    print(\"Arguments:\", ham, eggs)\n",
    "    return ham + ' and ' + eggs\n",
    "\n"
   ]
  },
  {
   "cell_type": "code",
   "execution_count": 54,
   "id": "e4cbd976",
   "metadata": {},
   "outputs": [
    {
     "name": "stdout",
     "output_type": "stream",
     "text": [
      "Annotations: {'ham': <class 'str'>, 'eggs': <class 'str'>, 'return': <class 'str'>}\n",
      "Arguments: spam eggs\n"
     ]
    },
    {
     "data": {
      "text/plain": [
       "'spam and eggs'"
      ]
     },
     "execution_count": 54,
     "metadata": {},
     "output_type": "execute_result"
    }
   ],
   "source": [
    "fun2(\"spam\")"
   ]
  },
  {
   "cell_type": "code",
   "execution_count": 51,
   "id": "c5f6cce1",
   "metadata": {},
   "outputs": [
    {
     "name": "stdout",
     "output_type": "stream",
     "text": [
      "Annotations: {'ham': <class 'str'>, 'eggs': <class 'str'>, 'return': <class 'str'>}\n",
      "Arguments: fff eggs\n",
      "fff and eggs\n"
     ]
    }
   ],
   "source": [
    "print(f(\"fff\"))"
   ]
  },
  {
   "cell_type": "code",
   "execution_count": null,
   "id": "2520a4b3",
   "metadata": {},
   "outputs": [],
   "source": [
    "def standard_arg(arg):\n",
    "    print(arg)\n",
    "\n",
    "def pos_only_arg(arg, /):\n",
    "    print(arg)\n",
    "\n",
    "def kwd_only_arg(*, arg):\n",
    "    print(arg)\n",
    "\n",
    "def combined_example(pos_only, /, standard, *, kwd_only):\n",
    "    print(pos_only, standard, kwd_only)"
   ]
  },
  {
   "cell_type": "code",
   "execution_count": null,
   "id": "c474eb2f",
   "metadata": {},
   "outputs": [],
   "source": []
  }
 ],
 "metadata": {
  "celltoolbar": "Slideshow",
  "kernelspec": {
   "display_name": "Python 3 (ipykernel)",
   "language": "python",
   "name": "python3"
  },
  "language_info": {
   "codemirror_mode": {
    "name": "ipython",
    "version": 3
   },
   "file_extension": ".py",
   "mimetype": "text/x-python",
   "name": "python",
   "nbconvert_exporter": "python",
   "pygments_lexer": "ipython3",
   "version": "3.10.9"
  }
 },
 "nbformat": 4,
 "nbformat_minor": 5
}
